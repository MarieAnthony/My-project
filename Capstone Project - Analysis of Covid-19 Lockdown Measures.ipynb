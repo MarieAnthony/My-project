{
 "cells": [
  {
   "cell_type": "code",
   "execution_count": 5,
   "id": "88bff715",
   "metadata": {},
   "outputs": [
    {
     "data": {
      "text/html": [
       "<div>\n",
       "<style scoped>\n",
       "    .dataframe tbody tr th:only-of-type {\n",
       "        vertical-align: middle;\n",
       "    }\n",
       "\n",
       "    .dataframe tbody tr th {\n",
       "        vertical-align: top;\n",
       "    }\n",
       "\n",
       "    .dataframe thead th {\n",
       "        text-align: right;\n",
       "    }\n",
       "</style>\n",
       "<table border=\"1\" class=\"dataframe\">\n",
       "  <thead>\n",
       "    <tr style=\"text-align: right;\">\n",
       "      <th></th>\n",
       "      <th>date</th>\n",
       "      <th>confirmed</th>\n",
       "      <th>vaccines</th>\n",
       "      <th>people_vaccinated</th>\n",
       "      <th>people_fully_vaccinated</th>\n",
       "      <th>school_closing</th>\n",
       "      <th>workplace_closing</th>\n",
       "      <th>cancel_events</th>\n",
       "      <th>gatherings_restrictions</th>\n",
       "      <th>transport_closing</th>\n",
       "      <th>stay_home_restrictions</th>\n",
       "      <th>internal_movement_restrictions</th>\n",
       "      <th>international_movement_restrictions</th>\n",
       "      <th>information_campaigns</th>\n",
       "      <th>contact_tracing</th>\n",
       "      <th>facial_coverings</th>\n",
       "    </tr>\n",
       "  </thead>\n",
       "  <tbody>\n",
       "    <tr>\n",
       "      <th>0</th>\n",
       "      <td>22-01-2020</td>\n",
       "      <td>NaN</td>\n",
       "      <td>0.0</td>\n",
       "      <td>NaN</td>\n",
       "      <td>NaN</td>\n",
       "      <td>0.0</td>\n",
       "      <td>0.0</td>\n",
       "      <td>0.0</td>\n",
       "      <td>0.0</td>\n",
       "      <td>0.0</td>\n",
       "      <td>0.0</td>\n",
       "      <td>0.0</td>\n",
       "      <td>0.0</td>\n",
       "      <td>0.0</td>\n",
       "      <td>0.0</td>\n",
       "      <td>0.0</td>\n",
       "    </tr>\n",
       "    <tr>\n",
       "      <th>1</th>\n",
       "      <td>23-01-2020</td>\n",
       "      <td>NaN</td>\n",
       "      <td>0.0</td>\n",
       "      <td>NaN</td>\n",
       "      <td>NaN</td>\n",
       "      <td>0.0</td>\n",
       "      <td>0.0</td>\n",
       "      <td>0.0</td>\n",
       "      <td>0.0</td>\n",
       "      <td>0.0</td>\n",
       "      <td>0.0</td>\n",
       "      <td>0.0</td>\n",
       "      <td>0.0</td>\n",
       "      <td>0.0</td>\n",
       "      <td>0.0</td>\n",
       "      <td>0.0</td>\n",
       "    </tr>\n",
       "    <tr>\n",
       "      <th>2</th>\n",
       "      <td>24-01-2020</td>\n",
       "      <td>NaN</td>\n",
       "      <td>0.0</td>\n",
       "      <td>NaN</td>\n",
       "      <td>NaN</td>\n",
       "      <td>0.0</td>\n",
       "      <td>0.0</td>\n",
       "      <td>0.0</td>\n",
       "      <td>0.0</td>\n",
       "      <td>0.0</td>\n",
       "      <td>0.0</td>\n",
       "      <td>0.0</td>\n",
       "      <td>0.0</td>\n",
       "      <td>0.0</td>\n",
       "      <td>0.0</td>\n",
       "      <td>0.0</td>\n",
       "    </tr>\n",
       "    <tr>\n",
       "      <th>3</th>\n",
       "      <td>25-01-2020</td>\n",
       "      <td>NaN</td>\n",
       "      <td>0.0</td>\n",
       "      <td>NaN</td>\n",
       "      <td>NaN</td>\n",
       "      <td>0.0</td>\n",
       "      <td>0.0</td>\n",
       "      <td>0.0</td>\n",
       "      <td>0.0</td>\n",
       "      <td>0.0</td>\n",
       "      <td>0.0</td>\n",
       "      <td>0.0</td>\n",
       "      <td>0.0</td>\n",
       "      <td>1.0</td>\n",
       "      <td>0.0</td>\n",
       "      <td>0.0</td>\n",
       "    </tr>\n",
       "    <tr>\n",
       "      <th>4</th>\n",
       "      <td>26-01-2020</td>\n",
       "      <td>NaN</td>\n",
       "      <td>0.0</td>\n",
       "      <td>NaN</td>\n",
       "      <td>NaN</td>\n",
       "      <td>0.0</td>\n",
       "      <td>0.0</td>\n",
       "      <td>0.0</td>\n",
       "      <td>0.0</td>\n",
       "      <td>0.0</td>\n",
       "      <td>-1.0</td>\n",
       "      <td>0.0</td>\n",
       "      <td>1.0</td>\n",
       "      <td>1.0</td>\n",
       "      <td>1.0</td>\n",
       "      <td>0.0</td>\n",
       "    </tr>\n",
       "    <tr>\n",
       "      <th>...</th>\n",
       "      <td>...</td>\n",
       "      <td>...</td>\n",
       "      <td>...</td>\n",
       "      <td>...</td>\n",
       "      <td>...</td>\n",
       "      <td>...</td>\n",
       "      <td>...</td>\n",
       "      <td>...</td>\n",
       "      <td>...</td>\n",
       "      <td>...</td>\n",
       "      <td>...</td>\n",
       "      <td>...</td>\n",
       "      <td>...</td>\n",
       "      <td>...</td>\n",
       "      <td>...</td>\n",
       "      <td>...</td>\n",
       "    </tr>\n",
       "    <tr>\n",
       "      <th>774</th>\n",
       "      <td>6/3/2022</td>\n",
       "      <td>42967315.0</td>\n",
       "      <td>0.0</td>\n",
       "      <td>967279389.0</td>\n",
       "      <td>801141086.0</td>\n",
       "      <td>NaN</td>\n",
       "      <td>NaN</td>\n",
       "      <td>NaN</td>\n",
       "      <td>NaN</td>\n",
       "      <td>NaN</td>\n",
       "      <td>NaN</td>\n",
       "      <td>NaN</td>\n",
       "      <td>NaN</td>\n",
       "      <td>NaN</td>\n",
       "      <td>NaN</td>\n",
       "      <td>NaN</td>\n",
       "    </tr>\n",
       "    <tr>\n",
       "      <th>775</th>\n",
       "      <td>7/3/2022</td>\n",
       "      <td>42971308.0</td>\n",
       "      <td>0.0</td>\n",
       "      <td>967460932.0</td>\n",
       "      <td>802358408.0</td>\n",
       "      <td>NaN</td>\n",
       "      <td>NaN</td>\n",
       "      <td>NaN</td>\n",
       "      <td>NaN</td>\n",
       "      <td>NaN</td>\n",
       "      <td>NaN</td>\n",
       "      <td>NaN</td>\n",
       "      <td>NaN</td>\n",
       "      <td>NaN</td>\n",
       "      <td>NaN</td>\n",
       "      <td>NaN</td>\n",
       "    </tr>\n",
       "    <tr>\n",
       "      <th>776</th>\n",
       "      <td>8/3/2022</td>\n",
       "      <td>42975883.0</td>\n",
       "      <td>0.0</td>\n",
       "      <td>967725805.0</td>\n",
       "      <td>804228336.0</td>\n",
       "      <td>NaN</td>\n",
       "      <td>NaN</td>\n",
       "      <td>NaN</td>\n",
       "      <td>NaN</td>\n",
       "      <td>NaN</td>\n",
       "      <td>NaN</td>\n",
       "      <td>NaN</td>\n",
       "      <td>NaN</td>\n",
       "      <td>NaN</td>\n",
       "      <td>NaN</td>\n",
       "      <td>NaN</td>\n",
       "    </tr>\n",
       "    <tr>\n",
       "      <th>777</th>\n",
       "      <td>9/3/2022</td>\n",
       "      <td>42980067.0</td>\n",
       "      <td>0.0</td>\n",
       "      <td>967946798.0</td>\n",
       "      <td>805886615.0</td>\n",
       "      <td>NaN</td>\n",
       "      <td>NaN</td>\n",
       "      <td>NaN</td>\n",
       "      <td>NaN</td>\n",
       "      <td>NaN</td>\n",
       "      <td>NaN</td>\n",
       "      <td>NaN</td>\n",
       "      <td>NaN</td>\n",
       "      <td>NaN</td>\n",
       "      <td>NaN</td>\n",
       "      <td>NaN</td>\n",
       "    </tr>\n",
       "    <tr>\n",
       "      <th>778</th>\n",
       "      <td>10/3/2022</td>\n",
       "      <td>42984261.0</td>\n",
       "      <td>0.0</td>\n",
       "      <td>NaN</td>\n",
       "      <td>NaN</td>\n",
       "      <td>NaN</td>\n",
       "      <td>NaN</td>\n",
       "      <td>NaN</td>\n",
       "      <td>NaN</td>\n",
       "      <td>NaN</td>\n",
       "      <td>NaN</td>\n",
       "      <td>NaN</td>\n",
       "      <td>NaN</td>\n",
       "      <td>NaN</td>\n",
       "      <td>NaN</td>\n",
       "      <td>NaN</td>\n",
       "    </tr>\n",
       "  </tbody>\n",
       "</table>\n",
       "<p>779 rows × 16 columns</p>\n",
       "</div>"
      ],
      "text/plain": [
       "           date   confirmed  vaccines  people_vaccinated  \\\n",
       "0    22-01-2020         NaN       0.0                NaN   \n",
       "1    23-01-2020         NaN       0.0                NaN   \n",
       "2    24-01-2020         NaN       0.0                NaN   \n",
       "3    25-01-2020         NaN       0.0                NaN   \n",
       "4    26-01-2020         NaN       0.0                NaN   \n",
       "..          ...         ...       ...                ...   \n",
       "774    6/3/2022  42967315.0       0.0        967279389.0   \n",
       "775    7/3/2022  42971308.0       0.0        967460932.0   \n",
       "776    8/3/2022  42975883.0       0.0        967725805.0   \n",
       "777    9/3/2022  42980067.0       0.0        967946798.0   \n",
       "778   10/3/2022  42984261.0       0.0                NaN   \n",
       "\n",
       "     people_fully_vaccinated  school_closing  workplace_closing  \\\n",
       "0                        NaN             0.0                0.0   \n",
       "1                        NaN             0.0                0.0   \n",
       "2                        NaN             0.0                0.0   \n",
       "3                        NaN             0.0                0.0   \n",
       "4                        NaN             0.0                0.0   \n",
       "..                       ...             ...                ...   \n",
       "774              801141086.0             NaN                NaN   \n",
       "775              802358408.0             NaN                NaN   \n",
       "776              804228336.0             NaN                NaN   \n",
       "777              805886615.0             NaN                NaN   \n",
       "778                      NaN             NaN                NaN   \n",
       "\n",
       "     cancel_events  gatherings_restrictions  transport_closing  \\\n",
       "0              0.0                      0.0                0.0   \n",
       "1              0.0                      0.0                0.0   \n",
       "2              0.0                      0.0                0.0   \n",
       "3              0.0                      0.0                0.0   \n",
       "4              0.0                      0.0                0.0   \n",
       "..             ...                      ...                ...   \n",
       "774            NaN                      NaN                NaN   \n",
       "775            NaN                      NaN                NaN   \n",
       "776            NaN                      NaN                NaN   \n",
       "777            NaN                      NaN                NaN   \n",
       "778            NaN                      NaN                NaN   \n",
       "\n",
       "     stay_home_restrictions  internal_movement_restrictions  \\\n",
       "0                       0.0                             0.0   \n",
       "1                       0.0                             0.0   \n",
       "2                       0.0                             0.0   \n",
       "3                       0.0                             0.0   \n",
       "4                      -1.0                             0.0   \n",
       "..                      ...                             ...   \n",
       "774                     NaN                             NaN   \n",
       "775                     NaN                             NaN   \n",
       "776                     NaN                             NaN   \n",
       "777                     NaN                             NaN   \n",
       "778                     NaN                             NaN   \n",
       "\n",
       "     international_movement_restrictions  information_campaigns  \\\n",
       "0                                    0.0                    0.0   \n",
       "1                                    0.0                    0.0   \n",
       "2                                    0.0                    0.0   \n",
       "3                                    0.0                    1.0   \n",
       "4                                    1.0                    1.0   \n",
       "..                                   ...                    ...   \n",
       "774                                  NaN                    NaN   \n",
       "775                                  NaN                    NaN   \n",
       "776                                  NaN                    NaN   \n",
       "777                                  NaN                    NaN   \n",
       "778                                  NaN                    NaN   \n",
       "\n",
       "     contact_tracing  facial_coverings  \n",
       "0                0.0               0.0  \n",
       "1                0.0               0.0  \n",
       "2                0.0               0.0  \n",
       "3                0.0               0.0  \n",
       "4                1.0               0.0  \n",
       "..               ...               ...  \n",
       "774              NaN               NaN  \n",
       "775              NaN               NaN  \n",
       "776              NaN               NaN  \n",
       "777              NaN               NaN  \n",
       "778              NaN               NaN  \n",
       "\n",
       "[779 rows x 16 columns]"
      ]
     },
     "execution_count": 5,
     "metadata": {},
     "output_type": "execute_result"
    }
   ],
   "source": [
    "import numpy as np\n",
    "import pandas as pd \n",
    "df = df = pd.read_csv(\"India.csv\")  \n",
    "df.head()     #read the csv file of the data to analyse\n",
    "df.isnull().sum()\n",
    "df.describe().T\n",
    "df\n"
   ]
  },
  {
   "cell_type": "code",
   "execution_count": 7,
   "id": "a49af23e",
   "metadata": {},
   "outputs": [
    {
     "data": {
      "text/plain": [
       "0    4.0\n",
       "Name: facial_coverings, dtype: float64"
      ]
     },
     "execution_count": 7,
     "metadata": {},
     "output_type": "execute_result"
    }
   ],
   "source": [
    "import pandas as pd \n",
    "df['date'].mode()"
   ]
  },
  {
   "cell_type": "code",
   "execution_count": 8,
   "id": "b9e52b14",
   "metadata": {},
   "outputs": [
    {
     "data": {
      "text/plain": [
       "0    3.0\n",
       "Name: confirmed, dtype: float64"
      ]
     },
     "execution_count": 8,
     "metadata": {},
     "output_type": "execute_result"
    }
   ],
   "source": [
    "df['confirmed'].mode()\n"
   ]
  },
  {
   "cell_type": "code",
   "execution_count": 10,
   "id": "d1a47990",
   "metadata": {},
   "outputs": [
    {
     "data": {
      "text/plain": [
       "0    0.0\n",
       "Name: vaccines, dtype: float64"
      ]
     },
     "execution_count": 10,
     "metadata": {},
     "output_type": "execute_result"
    }
   ],
   "source": [
    "df['vaccines'].mode()"
   ]
  },
  {
   "cell_type": "code",
   "execution_count": 9,
   "id": "1dd3260b",
   "metadata": {},
   "outputs": [
    {
     "data": {
      "text/plain": [
       "0   -2.0\n",
       "Name: workplace_closing, dtype: float64"
      ]
     },
     "execution_count": 9,
     "metadata": {},
     "output_type": "execute_result"
    }
   ],
   "source": [
    "df['workplace_closing'].mode()"
   ]
  },
  {
   "cell_type": "code",
   "execution_count": 11,
   "id": "d750e1c4",
   "metadata": {},
   "outputs": [
    {
     "data": {
      "text/plain": [
       "0   -2.0\n",
       "Name: cancel_events, dtype: float64"
      ]
     },
     "execution_count": 11,
     "metadata": {},
     "output_type": "execute_result"
    }
   ],
   "source": [
    "df['cancel_events'].mode()"
   ]
  },
  {
   "cell_type": "code",
   "execution_count": 12,
   "id": "7d2f09cf",
   "metadata": {},
   "outputs": [
    {
     "data": {
      "text/plain": [
       "0   -4.0\n",
       "Name: gatherings_restrictions, dtype: float64"
      ]
     },
     "execution_count": 12,
     "metadata": {},
     "output_type": "execute_result"
    }
   ],
   "source": [
    "df['gatherings_restrictions'].mode()"
   ]
  },
  {
   "cell_type": "code",
   "execution_count": 13,
   "id": "aa746f7b",
   "metadata": {},
   "outputs": [
    {
     "data": {
      "text/plain": [
       "0   -2.0\n",
       "Name: stay_home_restrictions, dtype: float64"
      ]
     },
     "execution_count": 13,
     "metadata": {},
     "output_type": "execute_result"
    }
   ],
   "source": [
    "df['stay_home_restrictions'].mode()"
   ]
  },
  {
   "cell_type": "code",
   "execution_count": 14,
   "id": "a78e0c63",
   "metadata": {},
   "outputs": [
    {
     "data": {
      "text/plain": [
       "0   -2.0\n",
       "Name: internal_movement_restrictions, dtype: float64"
      ]
     },
     "execution_count": 14,
     "metadata": {},
     "output_type": "execute_result"
    }
   ],
   "source": [
    "df['internal_movement_restrictions'].mode()"
   ]
  },
  {
   "cell_type": "code",
   "execution_count": 15,
   "id": "b11787e5",
   "metadata": {},
   "outputs": [
    {
     "data": {
      "text/plain": [
       "0    3.0\n",
       "Name: international_movement_restrictions, dtype: float64"
      ]
     },
     "execution_count": 15,
     "metadata": {},
     "output_type": "execute_result"
    }
   ],
   "source": [
    "df['international_movement_restrictions'].mode()"
   ]
  },
  {
   "cell_type": "code",
   "execution_count": 16,
   "id": "685f4a19",
   "metadata": {},
   "outputs": [
    {
     "data": {
      "text/plain": [
       "0    2.0\n",
       "Name: information_campaigns, dtype: float64"
      ]
     },
     "execution_count": 16,
     "metadata": {},
     "output_type": "execute_result"
    }
   ],
   "source": [
    "df['information_campaigns'].mode()"
   ]
  },
  {
   "cell_type": "code",
   "execution_count": 17,
   "id": "7b92f8e9",
   "metadata": {},
   "outputs": [
    {
     "data": {
      "text/plain": [
       "0    1.0\n",
       "Name: contact_tracing, dtype: float64"
      ]
     },
     "execution_count": 17,
     "metadata": {},
     "output_type": "execute_result"
    }
   ],
   "source": [
    "df['contact_tracing'].mode()"
   ]
  },
  {
   "cell_type": "code",
   "execution_count": 18,
   "id": "2ae9b2ee",
   "metadata": {},
   "outputs": [
    {
     "data": {
      "text/plain": [
       "0    4.0\n",
       "Name: facial_coverings, dtype: float64"
      ]
     },
     "execution_count": 18,
     "metadata": {},
     "output_type": "execute_result"
    }
   ],
   "source": [
    "df['facial_coverings'].mode()"
   ]
  },
  {
   "cell_type": "code",
   "execution_count": 19,
   "id": "1183f405",
   "metadata": {},
   "outputs": [
    {
     "data": {
      "text/plain": [
       "456708110.8186275"
      ]
     },
     "execution_count": 19,
     "metadata": {},
     "output_type": "execute_result"
    }
   ],
   "source": [
    "df['people_vaccinated'].mean()"
   ]
  },
  {
   "cell_type": "code",
   "execution_count": 20,
   "id": "88c7becb",
   "metadata": {},
   "outputs": [
    {
     "data": {
      "text/plain": [
       "263995481.6701847"
      ]
     },
     "execution_count": 20,
     "metadata": {},
     "output_type": "execute_result"
    }
   ],
   "source": [
    "df['people_fully_vaccinated'].mean()"
   ]
  },
  {
   "cell_type": "code",
   "execution_count": 23,
   "id": "47523c7e",
   "metadata": {},
   "outputs": [],
   "source": [
    "df.confirmed.fillna(3.0, inplace = True)\n",
    "df.vaccines.fillna(0.0, inplace = True)\n",
    "df.people_vaccinated.fillna(456708110.8186275, inplace = True)\n",
    "df.people_fully_vaccinated.fillna(263995481.6701847, inplace = True)\n",
    "df.school_closing.fillna(-3.0, inplace = True)\n",
    "df.workplace_closing.fillna(-2.0, inplace = True)\n",
    "df.cancel_events.fillna(-2.0, inplace = True)\n",
    "df.gatherings_restrictions.fillna(-4.0, inplace = True)\n",
    "df.transport_closing.fillna(-2.0, inplace = True)\n",
    "df.stay_home_restrictions.fillna(-2.0, inplace = True)\n",
    "df.internal_movement_restrictions.fillna(-2.0, inplace = True)\n",
    "df.international_movement_restrictions.fillna(3.0, inplace = True)\n",
    "df.information_campaigns.fillna(2.0, inplace = True)\n",
    "df.contact_tracing.fillna(1.0, inplace = True)\n",
    "df.facial_coverings.fillna(4.0, inplace = True)"
   ]
  },
  {
   "cell_type": "code",
   "execution_count": 25,
   "id": "9d806843",
   "metadata": {
    "scrolled": true
   },
   "outputs": [
    {
     "name": "stdout",
     "output_type": "stream",
     "text": [
      "<class 'pandas.core.frame.DataFrame'>\n",
      "RangeIndex: 779 entries, 0 to 778\n",
      "Data columns (total 16 columns):\n",
      " #   Column                               Non-Null Count  Dtype  \n",
      "---  ------                               --------------  -----  \n",
      " 0   date                                 779 non-null    object \n",
      " 1   confirmed                            779 non-null    float64\n",
      " 2   vaccines                             779 non-null    float64\n",
      " 3   people_vaccinated                    779 non-null    float64\n",
      " 4   people_fully_vaccinated              779 non-null    float64\n",
      " 5   school_closing                       779 non-null    float64\n",
      " 6   workplace_closing                    779 non-null    float64\n",
      " 7   cancel_events                        779 non-null    float64\n",
      " 8   gatherings_restrictions              779 non-null    float64\n",
      " 9   transport_closing                    779 non-null    float64\n",
      " 10  stay_home_restrictions               779 non-null    float64\n",
      " 11  internal_movement_restrictions       779 non-null    float64\n",
      " 12  international_movement_restrictions  779 non-null    float64\n",
      " 13  information_campaigns                779 non-null    float64\n",
      " 14  contact_tracing                      779 non-null    float64\n",
      " 15  facial_coverings                     779 non-null    float64\n",
      "dtypes: float64(15), object(1)\n",
      "memory usage: 97.5+ KB\n"
     ]
    },
    {
     "data": {
      "text/html": [
       "<div>\n",
       "<style scoped>\n",
       "    .dataframe tbody tr th:only-of-type {\n",
       "        vertical-align: middle;\n",
       "    }\n",
       "\n",
       "    .dataframe tbody tr th {\n",
       "        vertical-align: top;\n",
       "    }\n",
       "\n",
       "    .dataframe thead th {\n",
       "        text-align: right;\n",
       "    }\n",
       "</style>\n",
       "<table border=\"1\" class=\"dataframe\">\n",
       "  <thead>\n",
       "    <tr style=\"text-align: right;\">\n",
       "      <th></th>\n",
       "      <th>date</th>\n",
       "      <th>confirmed</th>\n",
       "      <th>vaccines</th>\n",
       "      <th>people_vaccinated</th>\n",
       "      <th>people_fully_vaccinated</th>\n",
       "      <th>school_closing</th>\n",
       "      <th>workplace_closing</th>\n",
       "      <th>cancel_events</th>\n",
       "      <th>gatherings_restrictions</th>\n",
       "      <th>transport_closing</th>\n",
       "      <th>stay_home_restrictions</th>\n",
       "      <th>internal_movement_restrictions</th>\n",
       "      <th>international_movement_restrictions</th>\n",
       "      <th>information_campaigns</th>\n",
       "      <th>contact_tracing</th>\n",
       "      <th>facial_coverings</th>\n",
       "    </tr>\n",
       "  </thead>\n",
       "  <tbody>\n",
       "    <tr>\n",
       "      <th>0</th>\n",
       "      <td>22-01-2020</td>\n",
       "      <td>3.0</td>\n",
       "      <td>0.0</td>\n",
       "      <td>4.567081e+08</td>\n",
       "      <td>2.639955e+08</td>\n",
       "      <td>0.0</td>\n",
       "      <td>0.0</td>\n",
       "      <td>0.0</td>\n",
       "      <td>0.0</td>\n",
       "      <td>0.0</td>\n",
       "      <td>0.0</td>\n",
       "      <td>0.0</td>\n",
       "      <td>0.0</td>\n",
       "      <td>0.0</td>\n",
       "      <td>0.0</td>\n",
       "      <td>0.0</td>\n",
       "    </tr>\n",
       "    <tr>\n",
       "      <th>1</th>\n",
       "      <td>23-01-2020</td>\n",
       "      <td>3.0</td>\n",
       "      <td>0.0</td>\n",
       "      <td>4.567081e+08</td>\n",
       "      <td>2.639955e+08</td>\n",
       "      <td>0.0</td>\n",
       "      <td>0.0</td>\n",
       "      <td>0.0</td>\n",
       "      <td>0.0</td>\n",
       "      <td>0.0</td>\n",
       "      <td>0.0</td>\n",
       "      <td>0.0</td>\n",
       "      <td>0.0</td>\n",
       "      <td>0.0</td>\n",
       "      <td>0.0</td>\n",
       "      <td>0.0</td>\n",
       "    </tr>\n",
       "    <tr>\n",
       "      <th>2</th>\n",
       "      <td>24-01-2020</td>\n",
       "      <td>3.0</td>\n",
       "      <td>0.0</td>\n",
       "      <td>4.567081e+08</td>\n",
       "      <td>2.639955e+08</td>\n",
       "      <td>0.0</td>\n",
       "      <td>0.0</td>\n",
       "      <td>0.0</td>\n",
       "      <td>0.0</td>\n",
       "      <td>0.0</td>\n",
       "      <td>0.0</td>\n",
       "      <td>0.0</td>\n",
       "      <td>0.0</td>\n",
       "      <td>0.0</td>\n",
       "      <td>0.0</td>\n",
       "      <td>0.0</td>\n",
       "    </tr>\n",
       "    <tr>\n",
       "      <th>3</th>\n",
       "      <td>25-01-2020</td>\n",
       "      <td>3.0</td>\n",
       "      <td>0.0</td>\n",
       "      <td>4.567081e+08</td>\n",
       "      <td>2.639955e+08</td>\n",
       "      <td>0.0</td>\n",
       "      <td>0.0</td>\n",
       "      <td>0.0</td>\n",
       "      <td>0.0</td>\n",
       "      <td>0.0</td>\n",
       "      <td>0.0</td>\n",
       "      <td>0.0</td>\n",
       "      <td>0.0</td>\n",
       "      <td>1.0</td>\n",
       "      <td>0.0</td>\n",
       "      <td>0.0</td>\n",
       "    </tr>\n",
       "    <tr>\n",
       "      <th>4</th>\n",
       "      <td>26-01-2020</td>\n",
       "      <td>3.0</td>\n",
       "      <td>0.0</td>\n",
       "      <td>4.567081e+08</td>\n",
       "      <td>2.639955e+08</td>\n",
       "      <td>0.0</td>\n",
       "      <td>0.0</td>\n",
       "      <td>0.0</td>\n",
       "      <td>0.0</td>\n",
       "      <td>0.0</td>\n",
       "      <td>-1.0</td>\n",
       "      <td>0.0</td>\n",
       "      <td>1.0</td>\n",
       "      <td>1.0</td>\n",
       "      <td>1.0</td>\n",
       "      <td>0.0</td>\n",
       "    </tr>\n",
       "    <tr>\n",
       "      <th>...</th>\n",
       "      <td>...</td>\n",
       "      <td>...</td>\n",
       "      <td>...</td>\n",
       "      <td>...</td>\n",
       "      <td>...</td>\n",
       "      <td>...</td>\n",
       "      <td>...</td>\n",
       "      <td>...</td>\n",
       "      <td>...</td>\n",
       "      <td>...</td>\n",
       "      <td>...</td>\n",
       "      <td>...</td>\n",
       "      <td>...</td>\n",
       "      <td>...</td>\n",
       "      <td>...</td>\n",
       "      <td>...</td>\n",
       "    </tr>\n",
       "    <tr>\n",
       "      <th>774</th>\n",
       "      <td>6/3/2022</td>\n",
       "      <td>42967315.0</td>\n",
       "      <td>0.0</td>\n",
       "      <td>9.672794e+08</td>\n",
       "      <td>8.011411e+08</td>\n",
       "      <td>-3.0</td>\n",
       "      <td>-2.0</td>\n",
       "      <td>-2.0</td>\n",
       "      <td>-4.0</td>\n",
       "      <td>-2.0</td>\n",
       "      <td>-2.0</td>\n",
       "      <td>-2.0</td>\n",
       "      <td>3.0</td>\n",
       "      <td>2.0</td>\n",
       "      <td>1.0</td>\n",
       "      <td>4.0</td>\n",
       "    </tr>\n",
       "    <tr>\n",
       "      <th>775</th>\n",
       "      <td>7/3/2022</td>\n",
       "      <td>42971308.0</td>\n",
       "      <td>0.0</td>\n",
       "      <td>9.674609e+08</td>\n",
       "      <td>8.023584e+08</td>\n",
       "      <td>-3.0</td>\n",
       "      <td>-2.0</td>\n",
       "      <td>-2.0</td>\n",
       "      <td>-4.0</td>\n",
       "      <td>-2.0</td>\n",
       "      <td>-2.0</td>\n",
       "      <td>-2.0</td>\n",
       "      <td>3.0</td>\n",
       "      <td>2.0</td>\n",
       "      <td>1.0</td>\n",
       "      <td>4.0</td>\n",
       "    </tr>\n",
       "    <tr>\n",
       "      <th>776</th>\n",
       "      <td>8/3/2022</td>\n",
       "      <td>42975883.0</td>\n",
       "      <td>0.0</td>\n",
       "      <td>9.677258e+08</td>\n",
       "      <td>8.042283e+08</td>\n",
       "      <td>-3.0</td>\n",
       "      <td>-2.0</td>\n",
       "      <td>-2.0</td>\n",
       "      <td>-4.0</td>\n",
       "      <td>-2.0</td>\n",
       "      <td>-2.0</td>\n",
       "      <td>-2.0</td>\n",
       "      <td>3.0</td>\n",
       "      <td>2.0</td>\n",
       "      <td>1.0</td>\n",
       "      <td>4.0</td>\n",
       "    </tr>\n",
       "    <tr>\n",
       "      <th>777</th>\n",
       "      <td>9/3/2022</td>\n",
       "      <td>42980067.0</td>\n",
       "      <td>0.0</td>\n",
       "      <td>9.679468e+08</td>\n",
       "      <td>8.058866e+08</td>\n",
       "      <td>-3.0</td>\n",
       "      <td>-2.0</td>\n",
       "      <td>-2.0</td>\n",
       "      <td>-4.0</td>\n",
       "      <td>-2.0</td>\n",
       "      <td>-2.0</td>\n",
       "      <td>-2.0</td>\n",
       "      <td>3.0</td>\n",
       "      <td>2.0</td>\n",
       "      <td>1.0</td>\n",
       "      <td>4.0</td>\n",
       "    </tr>\n",
       "    <tr>\n",
       "      <th>778</th>\n",
       "      <td>10/3/2022</td>\n",
       "      <td>42984261.0</td>\n",
       "      <td>0.0</td>\n",
       "      <td>4.567081e+08</td>\n",
       "      <td>2.639955e+08</td>\n",
       "      <td>-3.0</td>\n",
       "      <td>-2.0</td>\n",
       "      <td>-2.0</td>\n",
       "      <td>-4.0</td>\n",
       "      <td>-2.0</td>\n",
       "      <td>-2.0</td>\n",
       "      <td>-2.0</td>\n",
       "      <td>3.0</td>\n",
       "      <td>2.0</td>\n",
       "      <td>1.0</td>\n",
       "      <td>4.0</td>\n",
       "    </tr>\n",
       "  </tbody>\n",
       "</table>\n",
       "<p>779 rows × 16 columns</p>\n",
       "</div>"
      ],
      "text/plain": [
       "           date   confirmed  vaccines  people_vaccinated  \\\n",
       "0    22-01-2020         3.0       0.0       4.567081e+08   \n",
       "1    23-01-2020         3.0       0.0       4.567081e+08   \n",
       "2    24-01-2020         3.0       0.0       4.567081e+08   \n",
       "3    25-01-2020         3.0       0.0       4.567081e+08   \n",
       "4    26-01-2020         3.0       0.0       4.567081e+08   \n",
       "..          ...         ...       ...                ...   \n",
       "774    6/3/2022  42967315.0       0.0       9.672794e+08   \n",
       "775    7/3/2022  42971308.0       0.0       9.674609e+08   \n",
       "776    8/3/2022  42975883.0       0.0       9.677258e+08   \n",
       "777    9/3/2022  42980067.0       0.0       9.679468e+08   \n",
       "778   10/3/2022  42984261.0       0.0       4.567081e+08   \n",
       "\n",
       "     people_fully_vaccinated  school_closing  workplace_closing  \\\n",
       "0               2.639955e+08             0.0                0.0   \n",
       "1               2.639955e+08             0.0                0.0   \n",
       "2               2.639955e+08             0.0                0.0   \n",
       "3               2.639955e+08             0.0                0.0   \n",
       "4               2.639955e+08             0.0                0.0   \n",
       "..                       ...             ...                ...   \n",
       "774             8.011411e+08            -3.0               -2.0   \n",
       "775             8.023584e+08            -3.0               -2.0   \n",
       "776             8.042283e+08            -3.0               -2.0   \n",
       "777             8.058866e+08            -3.0               -2.0   \n",
       "778             2.639955e+08            -3.0               -2.0   \n",
       "\n",
       "     cancel_events  gatherings_restrictions  transport_closing  \\\n",
       "0              0.0                      0.0                0.0   \n",
       "1              0.0                      0.0                0.0   \n",
       "2              0.0                      0.0                0.0   \n",
       "3              0.0                      0.0                0.0   \n",
       "4              0.0                      0.0                0.0   \n",
       "..             ...                      ...                ...   \n",
       "774           -2.0                     -4.0               -2.0   \n",
       "775           -2.0                     -4.0               -2.0   \n",
       "776           -2.0                     -4.0               -2.0   \n",
       "777           -2.0                     -4.0               -2.0   \n",
       "778           -2.0                     -4.0               -2.0   \n",
       "\n",
       "     stay_home_restrictions  internal_movement_restrictions  \\\n",
       "0                       0.0                             0.0   \n",
       "1                       0.0                             0.0   \n",
       "2                       0.0                             0.0   \n",
       "3                       0.0                             0.0   \n",
       "4                      -1.0                             0.0   \n",
       "..                      ...                             ...   \n",
       "774                    -2.0                            -2.0   \n",
       "775                    -2.0                            -2.0   \n",
       "776                    -2.0                            -2.0   \n",
       "777                    -2.0                            -2.0   \n",
       "778                    -2.0                            -2.0   \n",
       "\n",
       "     international_movement_restrictions  information_campaigns  \\\n",
       "0                                    0.0                    0.0   \n",
       "1                                    0.0                    0.0   \n",
       "2                                    0.0                    0.0   \n",
       "3                                    0.0                    1.0   \n",
       "4                                    1.0                    1.0   \n",
       "..                                   ...                    ...   \n",
       "774                                  3.0                    2.0   \n",
       "775                                  3.0                    2.0   \n",
       "776                                  3.0                    2.0   \n",
       "777                                  3.0                    2.0   \n",
       "778                                  3.0                    2.0   \n",
       "\n",
       "     contact_tracing  facial_coverings  \n",
       "0                0.0               0.0  \n",
       "1                0.0               0.0  \n",
       "2                0.0               0.0  \n",
       "3                0.0               0.0  \n",
       "4                1.0               0.0  \n",
       "..               ...               ...  \n",
       "774              1.0               4.0  \n",
       "775              1.0               4.0  \n",
       "776              1.0               4.0  \n",
       "777              1.0               4.0  \n",
       "778              1.0               4.0  \n",
       "\n",
       "[779 rows x 16 columns]"
      ]
     },
     "execution_count": 25,
     "metadata": {},
     "output_type": "execute_result"
    }
   ],
   "source": [
    "df.info()\n",
    "df"
   ]
  },
  {
   "cell_type": "markdown",
   "id": "ebf6786b",
   "metadata": {},
   "source": [
    "## Calculating the Mean, Median, Mode & Standard Deviation with percentile of 90 & 95%"
   ]
  },
  {
   "cell_type": "code",
   "execution_count": 26,
   "id": "76483c3a",
   "metadata": {},
   "outputs": [
    {
     "data": {
      "text/html": [
       "<div>\n",
       "<style scoped>\n",
       "    .dataframe tbody tr th:only-of-type {\n",
       "        vertical-align: middle;\n",
       "    }\n",
       "\n",
       "    .dataframe tbody tr th {\n",
       "        vertical-align: top;\n",
       "    }\n",
       "\n",
       "    .dataframe thead th {\n",
       "        text-align: right;\n",
       "    }\n",
       "</style>\n",
       "<table border=\"1\" class=\"dataframe\">\n",
       "  <thead>\n",
       "    <tr style=\"text-align: right;\">\n",
       "      <th></th>\n",
       "      <th>columns</th>\n",
       "      <th>mean</th>\n",
       "      <th>median</th>\n",
       "      <th>upper limit</th>\n",
       "      <th>lower limit</th>\n",
       "      <th>90 percentile</th>\n",
       "      <th>95 percentile</th>\n",
       "    </tr>\n",
       "  </thead>\n",
       "  <tbody>\n",
       "    <tr>\n",
       "      <th>0</th>\n",
       "      <td>confirmed</td>\n",
       "      <td>1.680317e+07</td>\n",
       "      <td>1.091659e+07</td>\n",
       "      <td>6.101724e+07</td>\n",
       "      <td>-2.741089e+07</td>\n",
       "      <td>34767306.0</td>\n",
       "      <td>41319145.9</td>\n",
       "    </tr>\n",
       "    <tr>\n",
       "      <th>1</th>\n",
       "      <td>vaccines</td>\n",
       "      <td>0.000000e+00</td>\n",
       "      <td>0.000000e+00</td>\n",
       "      <td>0.000000e+00</td>\n",
       "      <td>0.000000e+00</td>\n",
       "      <td>0.0</td>\n",
       "      <td>0.0</td>\n",
       "    </tr>\n",
       "    <tr>\n",
       "      <th>2</th>\n",
       "      <td>people_vaccinated</td>\n",
       "      <td>4.567081e+08</td>\n",
       "      <td>4.567081e+08</td>\n",
       "      <td>1.203411e+09</td>\n",
       "      <td>-2.899943e+08</td>\n",
       "      <td>831266793.4</td>\n",
       "      <td>938856674.5</td>\n",
       "    </tr>\n",
       "    <tr>\n",
       "      <th>3</th>\n",
       "      <td>people_fully_vaccinated</td>\n",
       "      <td>2.639955e+08</td>\n",
       "      <td>2.639955e+08</td>\n",
       "      <td>8.155687e+08</td>\n",
       "      <td>-2.875778e+08</td>\n",
       "      <td>557760599.0</td>\n",
       "      <td>701676817.1</td>\n",
       "    </tr>\n",
       "    <tr>\n",
       "      <th>4</th>\n",
       "      <td>school_closing</td>\n",
       "      <td>-8.857510e-01</td>\n",
       "      <td>-2.000000e+00</td>\n",
       "      <td>6.389015e+00</td>\n",
       "      <td>-8.160517e+00</td>\n",
       "      <td>3.0</td>\n",
       "      <td>3.0</td>\n",
       "    </tr>\n",
       "    <tr>\n",
       "      <th>5</th>\n",
       "      <td>workplace_closing</td>\n",
       "      <td>-1.804878e+00</td>\n",
       "      <td>-2.000000e+00</td>\n",
       "      <td>2.548573e+00</td>\n",
       "      <td>-6.158329e+00</td>\n",
       "      <td>0.0</td>\n",
       "      <td>2.0</td>\n",
       "    </tr>\n",
       "    <tr>\n",
       "      <th>6</th>\n",
       "      <td>cancel_events</td>\n",
       "      <td>-4.993582e-01</td>\n",
       "      <td>-2.000000e+00</td>\n",
       "      <td>4.943350e+00</td>\n",
       "      <td>-5.942066e+00</td>\n",
       "      <td>2.0</td>\n",
       "      <td>2.0</td>\n",
       "    </tr>\n",
       "    <tr>\n",
       "      <th>7</th>\n",
       "      <td>gatherings_restrictions</td>\n",
       "      <td>-2.798460e+00</td>\n",
       "      <td>-4.000000e+00</td>\n",
       "      <td>3.611107e+00</td>\n",
       "      <td>-9.208027e+00</td>\n",
       "      <td>0.0</td>\n",
       "      <td>4.0</td>\n",
       "    </tr>\n",
       "    <tr>\n",
       "      <th>8</th>\n",
       "      <td>transport_closing</td>\n",
       "      <td>-6.996149e-01</td>\n",
       "      <td>0.000000e+00</td>\n",
       "      <td>3.307029e+00</td>\n",
       "      <td>-4.706259e+00</td>\n",
       "      <td>1.0</td>\n",
       "      <td>2.0</td>\n",
       "    </tr>\n",
       "    <tr>\n",
       "      <th>9</th>\n",
       "      <td>stay_home_restrictions</td>\n",
       "      <td>-1.580231e+00</td>\n",
       "      <td>-2.000000e+00</td>\n",
       "      <td>3.443571e+00</td>\n",
       "      <td>-6.604033e+00</td>\n",
       "      <td>2.0</td>\n",
       "      <td>3.0</td>\n",
       "    </tr>\n",
       "    <tr>\n",
       "      <th>10</th>\n",
       "      <td>internal_movement_restrictions</td>\n",
       "      <td>-9.191271e-01</td>\n",
       "      <td>-2.000000e+00</td>\n",
       "      <td>3.615961e+00</td>\n",
       "      <td>-5.454215e+00</td>\n",
       "      <td>2.0</td>\n",
       "      <td>2.0</td>\n",
       "    </tr>\n",
       "    <tr>\n",
       "      <th>11</th>\n",
       "      <td>international_movement_restrictions</td>\n",
       "      <td>2.962773e+00</td>\n",
       "      <td>3.000000e+00</td>\n",
       "      <td>5.561785e+00</td>\n",
       "      <td>3.637608e-01</td>\n",
       "      <td>4.0</td>\n",
       "      <td>4.0</td>\n",
       "    </tr>\n",
       "    <tr>\n",
       "      <th>12</th>\n",
       "      <td>information_campaigns</td>\n",
       "      <td>1.940950e+00</td>\n",
       "      <td>2.000000e+00</td>\n",
       "      <td>2.696013e+00</td>\n",
       "      <td>1.185887e+00</td>\n",
       "      <td>2.0</td>\n",
       "      <td>2.0</td>\n",
       "    </tr>\n",
       "    <tr>\n",
       "      <th>13</th>\n",
       "      <td>contact_tracing</td>\n",
       "      <td>1.427471e+00</td>\n",
       "      <td>1.000000e+00</td>\n",
       "      <td>2.943397e+00</td>\n",
       "      <td>-8.845507e-02</td>\n",
       "      <td>2.0</td>\n",
       "      <td>2.0</td>\n",
       "    </tr>\n",
       "    <tr>\n",
       "      <th>14</th>\n",
       "      <td>facial_coverings</td>\n",
       "      <td>4.646983e-01</td>\n",
       "      <td>2.000000e+00</td>\n",
       "      <td>1.139930e+01</td>\n",
       "      <td>-1.046991e+01</td>\n",
       "      <td>4.0</td>\n",
       "      <td>4.0</td>\n",
       "    </tr>\n",
       "  </tbody>\n",
       "</table>\n",
       "</div>"
      ],
      "text/plain": [
       "                                columns          mean        median  \\\n",
       "0                             confirmed  1.680317e+07  1.091659e+07   \n",
       "1                              vaccines  0.000000e+00  0.000000e+00   \n",
       "2                     people_vaccinated  4.567081e+08  4.567081e+08   \n",
       "3               people_fully_vaccinated  2.639955e+08  2.639955e+08   \n",
       "4                        school_closing -8.857510e-01 -2.000000e+00   \n",
       "5                     workplace_closing -1.804878e+00 -2.000000e+00   \n",
       "6                         cancel_events -4.993582e-01 -2.000000e+00   \n",
       "7               gatherings_restrictions -2.798460e+00 -4.000000e+00   \n",
       "8                     transport_closing -6.996149e-01  0.000000e+00   \n",
       "9                stay_home_restrictions -1.580231e+00 -2.000000e+00   \n",
       "10       internal_movement_restrictions -9.191271e-01 -2.000000e+00   \n",
       "11  international_movement_restrictions  2.962773e+00  3.000000e+00   \n",
       "12                information_campaigns  1.940950e+00  2.000000e+00   \n",
       "13                      contact_tracing  1.427471e+00  1.000000e+00   \n",
       "14                     facial_coverings  4.646983e-01  2.000000e+00   \n",
       "\n",
       "     upper limit   lower limit  90 percentile  95 percentile  \n",
       "0   6.101724e+07 -2.741089e+07     34767306.0     41319145.9  \n",
       "1   0.000000e+00  0.000000e+00            0.0            0.0  \n",
       "2   1.203411e+09 -2.899943e+08    831266793.4    938856674.5  \n",
       "3   8.155687e+08 -2.875778e+08    557760599.0    701676817.1  \n",
       "4   6.389015e+00 -8.160517e+00            3.0            3.0  \n",
       "5   2.548573e+00 -6.158329e+00            0.0            2.0  \n",
       "6   4.943350e+00 -5.942066e+00            2.0            2.0  \n",
       "7   3.611107e+00 -9.208027e+00            0.0            4.0  \n",
       "8   3.307029e+00 -4.706259e+00            1.0            2.0  \n",
       "9   3.443571e+00 -6.604033e+00            2.0            3.0  \n",
       "10  3.615961e+00 -5.454215e+00            2.0            2.0  \n",
       "11  5.561785e+00  3.637608e-01            4.0            4.0  \n",
       "12  2.696013e+00  1.185887e+00            2.0            2.0  \n",
       "13  2.943397e+00 -8.845507e-02            2.0            2.0  \n",
       "14  1.139930e+01 -1.046991e+01            4.0            4.0  "
      ]
     },
     "execution_count": 26,
     "metadata": {},
     "output_type": "execute_result"
    }
   ],
   "source": [
    "def central_tendency(df,col_list):                                            \n",
    "        mean_col, median_col,mode_col = [],[],[]                       \n",
    "        percentile_90,percentile_95 = [],[]                                 \n",
    "        upper_limit,lower_limit,zscore = [],[],[]                             \n",
    "        for col in col_list:                                                           \n",
    "            ser = df[col]                                                          \n",
    "            mean_col.append(ser.mean())                                    \n",
    "            median_col.append(ser.median())                           \n",
    "            mode_col.append(ser.mode())                                   \n",
    "            upper_limit.append(ser.mean() + 3*ser.std())             \n",
    "            lower_limit.append(ser.mean() - 3*ser.std())                \n",
    "            percentile_90.append(np.percentile(ser,90))                \n",
    "            percentile_95.append(np.percentile(ser,95))                \n",
    "    \n",
    "        return mean_col,median_col,mode_col,upper_limit,lower_limit,percentile_90,percentile_95 \n",
    "    \n",
    "col_list = df.iloc[:,1:].columns                                                               \n",
    "mean_col,median_col,mode_col,upper_limit,lower_limit,percentile_90,percentile_95 = central_tendency(df,col_list) \n",
    "df_stats = pd.DataFrame({'columns':col_list,'mean':mean_col,'median':median_col,'upper limit':upper_limit,'lower limit':lower_limit,'90 percentile':percentile_90,'95 percentile':percentile_95})                 #calling the central tendency function\n",
    "df_stats"
   ]
  },
  {
   "cell_type": "code",
   "execution_count": 43,
   "id": "c9a36135",
   "metadata": {},
   "outputs": [],
   "source": [
    "df.to_csv('Covid.csv')"
   ]
  },
  {
   "cell_type": "code",
   "execution_count": 29,
   "id": "6ea1b22b",
   "metadata": {},
   "outputs": [
    {
     "data": {
      "text/html": [
       "<div>\n",
       "<style scoped>\n",
       "    .dataframe tbody tr th:only-of-type {\n",
       "        vertical-align: middle;\n",
       "    }\n",
       "\n",
       "    .dataframe tbody tr th {\n",
       "        vertical-align: top;\n",
       "    }\n",
       "\n",
       "    .dataframe thead th {\n",
       "        text-align: right;\n",
       "    }\n",
       "</style>\n",
       "<table border=\"1\" class=\"dataframe\">\n",
       "  <thead>\n",
       "    <tr style=\"text-align: right;\">\n",
       "      <th></th>\n",
       "      <th>count</th>\n",
       "      <th>mean</th>\n",
       "      <th>std</th>\n",
       "      <th>min</th>\n",
       "      <th>25%</th>\n",
       "      <th>50%</th>\n",
       "      <th>75%</th>\n",
       "      <th>max</th>\n",
       "    </tr>\n",
       "  </thead>\n",
       "  <tbody>\n",
       "    <tr>\n",
       "      <th>confirmed</th>\n",
       "      <td>779.0</td>\n",
       "      <td>1.680317e+07</td>\n",
       "      <td>1.473802e+07</td>\n",
       "      <td>1.0</td>\n",
       "      <td>1881999.5</td>\n",
       "      <td>1.091659e+07</td>\n",
       "      <td>3.267249e+07</td>\n",
       "      <td>42984261.0</td>\n",
       "    </tr>\n",
       "    <tr>\n",
       "      <th>vaccines</th>\n",
       "      <td>779.0</td>\n",
       "      <td>0.000000e+00</td>\n",
       "      <td>0.000000e+00</td>\n",
       "      <td>0.0</td>\n",
       "      <td>0.0</td>\n",
       "      <td>0.000000e+00</td>\n",
       "      <td>0.000000e+00</td>\n",
       "      <td>0.0</td>\n",
       "    </tr>\n",
       "    <tr>\n",
       "      <th>people_vaccinated</th>\n",
       "      <td>779.0</td>\n",
       "      <td>4.567081e+08</td>\n",
       "      <td>2.489008e+08</td>\n",
       "      <td>0.0</td>\n",
       "      <td>392209855.5</td>\n",
       "      <td>4.567081e+08</td>\n",
       "      <td>4.720948e+08</td>\n",
       "      <td>967946798.0</td>\n",
       "    </tr>\n",
       "    <tr>\n",
       "      <th>people_fully_vaccinated</th>\n",
       "      <td>779.0</td>\n",
       "      <td>2.639955e+08</td>\n",
       "      <td>1.838577e+08</td>\n",
       "      <td>7668.0</td>\n",
       "      <td>162127836.0</td>\n",
       "      <td>2.639955e+08</td>\n",
       "      <td>2.639955e+08</td>\n",
       "      <td>805886615.0</td>\n",
       "    </tr>\n",
       "    <tr>\n",
       "      <th>school_closing</th>\n",
       "      <td>779.0</td>\n",
       "      <td>-8.857510e-01</td>\n",
       "      <td>2.424922e+00</td>\n",
       "      <td>-3.0</td>\n",
       "      <td>-3.0</td>\n",
       "      <td>-2.000000e+00</td>\n",
       "      <td>3.000000e+00</td>\n",
       "      <td>3.0</td>\n",
       "    </tr>\n",
       "    <tr>\n",
       "      <th>workplace_closing</th>\n",
       "      <td>779.0</td>\n",
       "      <td>-1.804878e+00</td>\n",
       "      <td>1.451150e+00</td>\n",
       "      <td>-3.0</td>\n",
       "      <td>-3.0</td>\n",
       "      <td>-2.000000e+00</td>\n",
       "      <td>-2.000000e+00</td>\n",
       "      <td>3.0</td>\n",
       "    </tr>\n",
       "    <tr>\n",
       "      <th>cancel_events</th>\n",
       "      <td>779.0</td>\n",
       "      <td>-4.993582e-01</td>\n",
       "      <td>1.814236e+00</td>\n",
       "      <td>-2.0</td>\n",
       "      <td>-2.0</td>\n",
       "      <td>-2.000000e+00</td>\n",
       "      <td>2.000000e+00</td>\n",
       "      <td>2.0</td>\n",
       "    </tr>\n",
       "    <tr>\n",
       "      <th>gatherings_restrictions</th>\n",
       "      <td>779.0</td>\n",
       "      <td>-2.798460e+00</td>\n",
       "      <td>2.136522e+00</td>\n",
       "      <td>-4.0</td>\n",
       "      <td>-4.0</td>\n",
       "      <td>-4.000000e+00</td>\n",
       "      <td>-2.000000e+00</td>\n",
       "      <td>4.0</td>\n",
       "    </tr>\n",
       "    <tr>\n",
       "      <th>transport_closing</th>\n",
       "      <td>779.0</td>\n",
       "      <td>-6.996149e-01</td>\n",
       "      <td>1.335548e+00</td>\n",
       "      <td>-2.0</td>\n",
       "      <td>-2.0</td>\n",
       "      <td>0.000000e+00</td>\n",
       "      <td>0.000000e+00</td>\n",
       "      <td>2.0</td>\n",
       "    </tr>\n",
       "    <tr>\n",
       "      <th>stay_home_restrictions</th>\n",
       "      <td>779.0</td>\n",
       "      <td>-1.580231e+00</td>\n",
       "      <td>1.674601e+00</td>\n",
       "      <td>-3.0</td>\n",
       "      <td>-3.0</td>\n",
       "      <td>-2.000000e+00</td>\n",
       "      <td>-2.000000e+00</td>\n",
       "      <td>3.0</td>\n",
       "    </tr>\n",
       "    <tr>\n",
       "      <th>internal_movement_restrictions</th>\n",
       "      <td>779.0</td>\n",
       "      <td>-9.191271e-01</td>\n",
       "      <td>1.511696e+00</td>\n",
       "      <td>-2.0</td>\n",
       "      <td>-2.0</td>\n",
       "      <td>-2.000000e+00</td>\n",
       "      <td>0.000000e+00</td>\n",
       "      <td>2.0</td>\n",
       "    </tr>\n",
       "    <tr>\n",
       "      <th>international_movement_restrictions</th>\n",
       "      <td>779.0</td>\n",
       "      <td>2.962773e+00</td>\n",
       "      <td>8.663373e-01</td>\n",
       "      <td>0.0</td>\n",
       "      <td>3.0</td>\n",
       "      <td>3.000000e+00</td>\n",
       "      <td>4.000000e+00</td>\n",
       "      <td>4.0</td>\n",
       "    </tr>\n",
       "    <tr>\n",
       "      <th>information_campaigns</th>\n",
       "      <td>779.0</td>\n",
       "      <td>1.940950e+00</td>\n",
       "      <td>2.516876e-01</td>\n",
       "      <td>0.0</td>\n",
       "      <td>2.0</td>\n",
       "      <td>2.000000e+00</td>\n",
       "      <td>2.000000e+00</td>\n",
       "      <td>2.0</td>\n",
       "    </tr>\n",
       "    <tr>\n",
       "      <th>contact_tracing</th>\n",
       "      <td>779.0</td>\n",
       "      <td>1.427471e+00</td>\n",
       "      <td>5.053087e-01</td>\n",
       "      <td>0.0</td>\n",
       "      <td>1.0</td>\n",
       "      <td>1.000000e+00</td>\n",
       "      <td>2.000000e+00</td>\n",
       "      <td>2.0</td>\n",
       "    </tr>\n",
       "    <tr>\n",
       "      <th>facial_coverings</th>\n",
       "      <td>779.0</td>\n",
       "      <td>4.646983e-01</td>\n",
       "      <td>3.644868e+00</td>\n",
       "      <td>-4.0</td>\n",
       "      <td>-4.0</td>\n",
       "      <td>2.000000e+00</td>\n",
       "      <td>4.000000e+00</td>\n",
       "      <td>4.0</td>\n",
       "    </tr>\n",
       "  </tbody>\n",
       "</table>\n",
       "</div>"
      ],
      "text/plain": [
       "                                     count          mean           std  \\\n",
       "confirmed                            779.0  1.680317e+07  1.473802e+07   \n",
       "vaccines                             779.0  0.000000e+00  0.000000e+00   \n",
       "people_vaccinated                    779.0  4.567081e+08  2.489008e+08   \n",
       "people_fully_vaccinated              779.0  2.639955e+08  1.838577e+08   \n",
       "school_closing                       779.0 -8.857510e-01  2.424922e+00   \n",
       "workplace_closing                    779.0 -1.804878e+00  1.451150e+00   \n",
       "cancel_events                        779.0 -4.993582e-01  1.814236e+00   \n",
       "gatherings_restrictions              779.0 -2.798460e+00  2.136522e+00   \n",
       "transport_closing                    779.0 -6.996149e-01  1.335548e+00   \n",
       "stay_home_restrictions               779.0 -1.580231e+00  1.674601e+00   \n",
       "internal_movement_restrictions       779.0 -9.191271e-01  1.511696e+00   \n",
       "international_movement_restrictions  779.0  2.962773e+00  8.663373e-01   \n",
       "information_campaigns                779.0  1.940950e+00  2.516876e-01   \n",
       "contact_tracing                      779.0  1.427471e+00  5.053087e-01   \n",
       "facial_coverings                     779.0  4.646983e-01  3.644868e+00   \n",
       "\n",
       "                                        min          25%           50%  \\\n",
       "confirmed                               1.0    1881999.5  1.091659e+07   \n",
       "vaccines                                0.0          0.0  0.000000e+00   \n",
       "people_vaccinated                       0.0  392209855.5  4.567081e+08   \n",
       "people_fully_vaccinated              7668.0  162127836.0  2.639955e+08   \n",
       "school_closing                         -3.0         -3.0 -2.000000e+00   \n",
       "workplace_closing                      -3.0         -3.0 -2.000000e+00   \n",
       "cancel_events                          -2.0         -2.0 -2.000000e+00   \n",
       "gatherings_restrictions                -4.0         -4.0 -4.000000e+00   \n",
       "transport_closing                      -2.0         -2.0  0.000000e+00   \n",
       "stay_home_restrictions                 -3.0         -3.0 -2.000000e+00   \n",
       "internal_movement_restrictions         -2.0         -2.0 -2.000000e+00   \n",
       "international_movement_restrictions     0.0          3.0  3.000000e+00   \n",
       "information_campaigns                   0.0          2.0  2.000000e+00   \n",
       "contact_tracing                         0.0          1.0  1.000000e+00   \n",
       "facial_coverings                       -4.0         -4.0  2.000000e+00   \n",
       "\n",
       "                                              75%          max  \n",
       "confirmed                            3.267249e+07   42984261.0  \n",
       "vaccines                             0.000000e+00          0.0  \n",
       "people_vaccinated                    4.720948e+08  967946798.0  \n",
       "people_fully_vaccinated              2.639955e+08  805886615.0  \n",
       "school_closing                       3.000000e+00          3.0  \n",
       "workplace_closing                   -2.000000e+00          3.0  \n",
       "cancel_events                        2.000000e+00          2.0  \n",
       "gatherings_restrictions             -2.000000e+00          4.0  \n",
       "transport_closing                    0.000000e+00          2.0  \n",
       "stay_home_restrictions              -2.000000e+00          3.0  \n",
       "internal_movement_restrictions       0.000000e+00          2.0  \n",
       "international_movement_restrictions  4.000000e+00          4.0  \n",
       "information_campaigns                2.000000e+00          2.0  \n",
       "contact_tracing                      2.000000e+00          2.0  \n",
       "facial_coverings                     4.000000e+00          4.0  "
      ]
     },
     "execution_count": 29,
     "metadata": {},
     "output_type": "execute_result"
    }
   ],
   "source": [
    "df.describe().T"
   ]
  },
  {
   "cell_type": "code",
   "execution_count": 33,
   "id": "5d219359",
   "metadata": {},
   "outputs": [],
   "source": [
    "df2 = ['confirmed', 'vaccines', 'school_closing', 'workplace_closing',\n",
    "       'cancel_events', 'gatherings_restrictions', 'transport_closing',\n",
    "       'stay_home_restrictions', 'internal_movement_restrictions',\n",
    "       'international_movement_restrictions', 'information_campaigns',\n",
    "       'contact_tracing', 'facial_coverings']"
   ]
  },
  {
   "cell_type": "code",
   "execution_count": 40,
   "id": "b75c6f47",
   "metadata": {},
   "outputs": [
    {
     "data": {
      "text/html": [
       "<div>\n",
       "<style scoped>\n",
       "    .dataframe tbody tr th:only-of-type {\n",
       "        vertical-align: middle;\n",
       "    }\n",
       "\n",
       "    .dataframe tbody tr th {\n",
       "        vertical-align: top;\n",
       "    }\n",
       "\n",
       "    .dataframe thead th {\n",
       "        text-align: right;\n",
       "    }\n",
       "</style>\n",
       "<table border=\"1\" class=\"dataframe\">\n",
       "  <thead>\n",
       "    <tr style=\"text-align: right;\">\n",
       "      <th></th>\n",
       "      <th>confirmed</th>\n",
       "      <th>vaccines</th>\n",
       "      <th>school_closing</th>\n",
       "      <th>workplace_closing</th>\n",
       "      <th>cancel_events</th>\n",
       "      <th>gatherings_restrictions</th>\n",
       "      <th>transport_closing</th>\n",
       "      <th>stay_home_restrictions</th>\n",
       "      <th>internal_movement_restrictions</th>\n",
       "      <th>international_movement_restrictions</th>\n",
       "      <th>information_campaigns</th>\n",
       "      <th>contact_tracing</th>\n",
       "      <th>facial_coverings</th>\n",
       "    </tr>\n",
       "  </thead>\n",
       "  <tbody>\n",
       "    <tr>\n",
       "      <th>0</th>\n",
       "      <td>3.0</td>\n",
       "      <td>0.0</td>\n",
       "      <td>0.0</td>\n",
       "      <td>0.0</td>\n",
       "      <td>0.0</td>\n",
       "      <td>0.0</td>\n",
       "      <td>0.0</td>\n",
       "      <td>0.0</td>\n",
       "      <td>0.0</td>\n",
       "      <td>0.0</td>\n",
       "      <td>0.0</td>\n",
       "      <td>0.0</td>\n",
       "      <td>0.0</td>\n",
       "    </tr>\n",
       "    <tr>\n",
       "      <th>1</th>\n",
       "      <td>3.0</td>\n",
       "      <td>0.0</td>\n",
       "      <td>0.0</td>\n",
       "      <td>0.0</td>\n",
       "      <td>0.0</td>\n",
       "      <td>0.0</td>\n",
       "      <td>0.0</td>\n",
       "      <td>0.0</td>\n",
       "      <td>0.0</td>\n",
       "      <td>0.0</td>\n",
       "      <td>0.0</td>\n",
       "      <td>0.0</td>\n",
       "      <td>0.0</td>\n",
       "    </tr>\n",
       "    <tr>\n",
       "      <th>2</th>\n",
       "      <td>3.0</td>\n",
       "      <td>0.0</td>\n",
       "      <td>0.0</td>\n",
       "      <td>0.0</td>\n",
       "      <td>0.0</td>\n",
       "      <td>0.0</td>\n",
       "      <td>0.0</td>\n",
       "      <td>0.0</td>\n",
       "      <td>0.0</td>\n",
       "      <td>0.0</td>\n",
       "      <td>0.0</td>\n",
       "      <td>0.0</td>\n",
       "      <td>0.0</td>\n",
       "    </tr>\n",
       "    <tr>\n",
       "      <th>3</th>\n",
       "      <td>3.0</td>\n",
       "      <td>0.0</td>\n",
       "      <td>0.0</td>\n",
       "      <td>0.0</td>\n",
       "      <td>0.0</td>\n",
       "      <td>0.0</td>\n",
       "      <td>0.0</td>\n",
       "      <td>0.0</td>\n",
       "      <td>0.0</td>\n",
       "      <td>0.0</td>\n",
       "      <td>1.0</td>\n",
       "      <td>0.0</td>\n",
       "      <td>0.0</td>\n",
       "    </tr>\n",
       "    <tr>\n",
       "      <th>4</th>\n",
       "      <td>3.0</td>\n",
       "      <td>0.0</td>\n",
       "      <td>0.0</td>\n",
       "      <td>0.0</td>\n",
       "      <td>0.0</td>\n",
       "      <td>0.0</td>\n",
       "      <td>0.0</td>\n",
       "      <td>-1.0</td>\n",
       "      <td>0.0</td>\n",
       "      <td>1.0</td>\n",
       "      <td>1.0</td>\n",
       "      <td>1.0</td>\n",
       "      <td>0.0</td>\n",
       "    </tr>\n",
       "    <tr>\n",
       "      <th>...</th>\n",
       "      <td>...</td>\n",
       "      <td>...</td>\n",
       "      <td>...</td>\n",
       "      <td>...</td>\n",
       "      <td>...</td>\n",
       "      <td>...</td>\n",
       "      <td>...</td>\n",
       "      <td>...</td>\n",
       "      <td>...</td>\n",
       "      <td>...</td>\n",
       "      <td>...</td>\n",
       "      <td>...</td>\n",
       "      <td>...</td>\n",
       "    </tr>\n",
       "    <tr>\n",
       "      <th>774</th>\n",
       "      <td>42967315.0</td>\n",
       "      <td>0.0</td>\n",
       "      <td>-3.0</td>\n",
       "      <td>-2.0</td>\n",
       "      <td>-2.0</td>\n",
       "      <td>-4.0</td>\n",
       "      <td>-2.0</td>\n",
       "      <td>-2.0</td>\n",
       "      <td>-2.0</td>\n",
       "      <td>3.0</td>\n",
       "      <td>2.0</td>\n",
       "      <td>1.0</td>\n",
       "      <td>4.0</td>\n",
       "    </tr>\n",
       "    <tr>\n",
       "      <th>775</th>\n",
       "      <td>42971308.0</td>\n",
       "      <td>0.0</td>\n",
       "      <td>-3.0</td>\n",
       "      <td>-2.0</td>\n",
       "      <td>-2.0</td>\n",
       "      <td>-4.0</td>\n",
       "      <td>-2.0</td>\n",
       "      <td>-2.0</td>\n",
       "      <td>-2.0</td>\n",
       "      <td>3.0</td>\n",
       "      <td>2.0</td>\n",
       "      <td>1.0</td>\n",
       "      <td>4.0</td>\n",
       "    </tr>\n",
       "    <tr>\n",
       "      <th>776</th>\n",
       "      <td>42975883.0</td>\n",
       "      <td>0.0</td>\n",
       "      <td>-3.0</td>\n",
       "      <td>-2.0</td>\n",
       "      <td>-2.0</td>\n",
       "      <td>-4.0</td>\n",
       "      <td>-2.0</td>\n",
       "      <td>-2.0</td>\n",
       "      <td>-2.0</td>\n",
       "      <td>3.0</td>\n",
       "      <td>2.0</td>\n",
       "      <td>1.0</td>\n",
       "      <td>4.0</td>\n",
       "    </tr>\n",
       "    <tr>\n",
       "      <th>777</th>\n",
       "      <td>42980067.0</td>\n",
       "      <td>0.0</td>\n",
       "      <td>-3.0</td>\n",
       "      <td>-2.0</td>\n",
       "      <td>-2.0</td>\n",
       "      <td>-4.0</td>\n",
       "      <td>-2.0</td>\n",
       "      <td>-2.0</td>\n",
       "      <td>-2.0</td>\n",
       "      <td>3.0</td>\n",
       "      <td>2.0</td>\n",
       "      <td>1.0</td>\n",
       "      <td>4.0</td>\n",
       "    </tr>\n",
       "    <tr>\n",
       "      <th>778</th>\n",
       "      <td>42984261.0</td>\n",
       "      <td>0.0</td>\n",
       "      <td>-3.0</td>\n",
       "      <td>-2.0</td>\n",
       "      <td>-2.0</td>\n",
       "      <td>-4.0</td>\n",
       "      <td>-2.0</td>\n",
       "      <td>-2.0</td>\n",
       "      <td>-2.0</td>\n",
       "      <td>3.0</td>\n",
       "      <td>2.0</td>\n",
       "      <td>1.0</td>\n",
       "      <td>4.0</td>\n",
       "    </tr>\n",
       "  </tbody>\n",
       "</table>\n",
       "<p>779 rows × 13 columns</p>\n",
       "</div>"
      ],
      "text/plain": [
       "      confirmed  vaccines  school_closing  workplace_closing  cancel_events  \\\n",
       "0           3.0       0.0             0.0                0.0            0.0   \n",
       "1           3.0       0.0             0.0                0.0            0.0   \n",
       "2           3.0       0.0             0.0                0.0            0.0   \n",
       "3           3.0       0.0             0.0                0.0            0.0   \n",
       "4           3.0       0.0             0.0                0.0            0.0   \n",
       "..          ...       ...             ...                ...            ...   \n",
       "774  42967315.0       0.0            -3.0               -2.0           -2.0   \n",
       "775  42971308.0       0.0            -3.0               -2.0           -2.0   \n",
       "776  42975883.0       0.0            -3.0               -2.0           -2.0   \n",
       "777  42980067.0       0.0            -3.0               -2.0           -2.0   \n",
       "778  42984261.0       0.0            -3.0               -2.0           -2.0   \n",
       "\n",
       "     gatherings_restrictions  transport_closing  stay_home_restrictions  \\\n",
       "0                        0.0                0.0                     0.0   \n",
       "1                        0.0                0.0                     0.0   \n",
       "2                        0.0                0.0                     0.0   \n",
       "3                        0.0                0.0                     0.0   \n",
       "4                        0.0                0.0                    -1.0   \n",
       "..                       ...                ...                     ...   \n",
       "774                     -4.0               -2.0                    -2.0   \n",
       "775                     -4.0               -2.0                    -2.0   \n",
       "776                     -4.0               -2.0                    -2.0   \n",
       "777                     -4.0               -2.0                    -2.0   \n",
       "778                     -4.0               -2.0                    -2.0   \n",
       "\n",
       "     internal_movement_restrictions  international_movement_restrictions  \\\n",
       "0                               0.0                                  0.0   \n",
       "1                               0.0                                  0.0   \n",
       "2                               0.0                                  0.0   \n",
       "3                               0.0                                  0.0   \n",
       "4                               0.0                                  1.0   \n",
       "..                              ...                                  ...   \n",
       "774                            -2.0                                  3.0   \n",
       "775                            -2.0                                  3.0   \n",
       "776                            -2.0                                  3.0   \n",
       "777                            -2.0                                  3.0   \n",
       "778                            -2.0                                  3.0   \n",
       "\n",
       "     information_campaigns  contact_tracing  facial_coverings  \n",
       "0                      0.0              0.0               0.0  \n",
       "1                      0.0              0.0               0.0  \n",
       "2                      0.0              0.0               0.0  \n",
       "3                      1.0              0.0               0.0  \n",
       "4                      1.0              1.0               0.0  \n",
       "..                     ...              ...               ...  \n",
       "774                    2.0              1.0               4.0  \n",
       "775                    2.0              1.0               4.0  \n",
       "776                    2.0              1.0               4.0  \n",
       "777                    2.0              1.0               4.0  \n",
       "778                    2.0              1.0               4.0  \n",
       "\n",
       "[779 rows x 13 columns]"
      ]
     },
     "execution_count": 40,
     "metadata": {},
     "output_type": "execute_result"
    }
   ],
   "source": [
    "df2 = df[df1]\n",
    "df2"
   ]
  },
  {
   "cell_type": "code",
   "execution_count": 41,
   "id": "6f232766",
   "metadata": {},
   "outputs": [
    {
     "data": {
      "image/png": "[encoded data removed]",
      "text/plain": [
       "<Figure size 200x100 with 1 Axes>"
      ]
     },
     "metadata": {},
     "output_type": "display_data"
    },
    {
     "data": {
      "image/png": "[encoded data removed]",
      "text/plain": [
       "<Figure size 200x100 with 1 Axes>"
      ]
     },
     "metadata": {},
     "output_type": "display_data"
    },
    {
     "data": {
      "image/png": "[encoded data removed]",
      "text/plain": [
       "<Figure size 200x100 with 1 Axes>"
      ]
     },
     "metadata": {},
     "output_type": "display_data"
    },
    {
     "data": {
      "image/png": "[encoded data removed]",
      "text/plain": [
       "<Figure size 200x100 with 1 Axes>"
      ]
     },
     "metadata": {},
     "output_type": "display_data"
    },
    {
     "data": {
      "image/png": "[encoded data removed]",
      "text/plain": [
       "<Figure size 200x100 with 1 Axes>"
      ]
     },
     "metadata": {},
     "output_type": "display_data"
    },
    {
     "data": {
      "image/png": "[encoded data removed]",
      "text/plain": [
       "<Figure size 200x100 with 1 Axes>"
      ]
     },
     "metadata": {},
     "output_type": "display_data"
    },
    {
     "data": {
      "image/png": "[encoded data removed]",
      "text/plain": [
       "<Figure size 200x100 with 1 Axes>"
      ]
     },
     "metadata": {},
     "output_type": "display_data"
    },
    {
     "data": {
      "image/png": "[encoded data removed]",
      "text/plain": [
       "<Figure size 200x100 with 1 Axes>"
      ]
     },
     "metadata": {},
     "output_type": "display_data"
    },
    {
     "data": {
      "image/png": "[encoded data removed]",
      "text/plain": [
       "<Figure size 200x100 with 1 Axes>"
      ]
     },
     "metadata": {},
     "output_type": "display_data"
    },
    {
     "data": {
      "image/png": "[encoded data removed]",
      "text/plain": [
       "<Figure size 200x100 with 1 Axes>"
      ]
     },
     "metadata": {},
     "output_type": "display_data"
    },
    {
     "data": {
      "image/png": "[encoded data removed]",
      "text/plain": [
       "<Figure size 200x100 with 1 Axes>"
      ]
     },
     "metadata": {},
     "output_type": "display_data"
    },
    {
     "data": {
      "image/png": "[encoded data removed]",
      "text/plain": [
       "<Figure size 200x100 with 1 Axes>"
      ]
     },
     "metadata": {},
     "output_type": "display_data"
    },
    {
     "data": {
      "image/png": "[encoded data removed]",
      "text/plain": [
       "<Figure size 200x100 with 1 Axes>"
      ]
     },
     "metadata": {},
     "output_type": "display_data"
    }
   ],
   "source": [
    "import seaborn as sns\n",
    "for col in df2.columns:\n",
    "    plt.figure(figsize = (2, 1))\n",
    "    sns.histplot(df2[col], kde = True)"
   ]
  },
  {
   "cell_type": "code",
   "execution_count": 37,
   "id": "e062d3ea",
   "metadata": {},
   "outputs": [
    {
     "data": {
      "image/png": "[encoded data removed]",
      "text/plain": [
       "<Figure size 200x100 with 1 Axes>"
      ]
     },
     "metadata": {},
     "output_type": "display_data"
    },
    {
     "data": {
      "image/png": "[encoded data removed]",
      "text/plain": [
       "<Figure size 200x100 with 1 Axes>"
      ]
     },
     "metadata": {},
     "output_type": "display_data"
    },
    {
     "data": {
      "image/png": "[encoded data removed]",
      "text/plain": [
       "<Figure size 200x100 with 1 Axes>"
      ]
     },
     "metadata": {},
     "output_type": "display_data"
    },
    {
     "data": {
      "image/png": "[encoded data removed]",
      "text/plain": [
       "<Figure size 200x100 with 1 Axes>"
      ]
     },
     "metadata": {},
     "output_type": "display_data"
    },
    {
     "data": {
      "image/png": "[encoded data removed]",
      "text/plain": [
       "<Figure size 200x100 with 1 Axes>"
      ]
     },
     "metadata": {},
     "output_type": "display_data"
    },
    {
     "data": {
      "image/png": "[encoded data removed]",
      "text/plain": [
       "<Figure size 200x100 with 1 Axes>"
      ]
     },
     "metadata": {},
     "output_type": "display_data"
    },
    {
     "data": {
      "image/png": "[encoded data removed]",
      "text/plain": [
       "<Figure size 200x100 with 1 Axes>"
      ]
     },
     "metadata": {},
     "output_type": "display_data"
    },
    {
     "data": {
      "image/png": "[encoded data removed]",
      "text/plain": [
       "<Figure size 200x100 with 1 Axes>"
      ]
     },
     "metadata": {},
     "output_type": "display_data"
    },
    {
     "data": {
      "image/png": "[encoded data removed]",
      "text/plain": [
       "<Figure size 200x100 with 1 Axes>"
      ]
     },
     "metadata": {},
     "output_type": "display_data"
    },
    {
     "data": {
      "image/png": "[encoded data removed]",
      "text/plain": [
       "<Figure size 200x100 with 1 Axes>"
      ]
     },
     "metadata": {},
     "output_type": "display_data"
    },
    {
     "data": {
      "image/png": "[encoded data removed]",
      "text/plain": [
       "<Figure size 200x100 with 1 Axes>"
      ]
     },
     "metadata": {},
     "output_type": "display_data"
    },
    {
     "data": {
      "image/png": "[encoded data removed]",
      "text/plain": [
       "<Figure size 200x100 with 1 Axes>"
      ]
     },
     "metadata": {},
     "output_type": "display_data"
    },
    {
     "data": {
      "image/png": "[encoded data removed]",
      "text/plain": [
       "<Figure size 200x100 with 1 Axes>"
      ]
     },
     "metadata": {},
     "output_type": "display_data"
    }
   ],
   "source": [
    "import matplotlib.pyplot as plt\n",
    "for col in df2.columns:\n",
    "    plt.figure(figsize=(2, 1))\n",
    "    sns.lineplot(x=col, y='confirmed', data=df2)\n",
    "    plt.title('control measures')\n",
    "    plt.show()"
   ]
  },
  {
   "cell_type": "markdown",
   "id": "1e9538a1",
   "metadata": {},
   "source": [
    "## Conclusion"
   ]
  },
  {
   "cell_type": "markdown",
   "id": "ae614b95",
   "metadata": {},
   "source": [
    "* From the above analysis we have conclude that the lockdown measures does not effect the cases during the period of Covid.\n",
    "* Thus there is large number of effected cases we have to take a step to control the effect of cases."
   ]
  },
  {
   "cell_type": "code",
   "execution_count": null,
   "id": "3a914736",
   "metadata": {},
   "outputs": [],
   "source": []
  },
  {
   "cell_type": "code",
   "execution_count": null,
   "id": "c7bed723",
   "metadata": {},
   "outputs": [],
   "source": []
  },
  {
   "cell_type": "code",
   "execution_count": null,
   "id": "065b58c4",
   "metadata": {},
   "outputs": [],
   "source": []
  }
 ],
 "metadata": {
  "kernelspec": {
   "display_name": "Python 3 (ipykernel)",
   "language": "python",
   "name": "python3"
  },
  "language_info": {
   "codemirror_mode": {
    "name": "ipython",
    "version": 3
   },
   "file_extension": ".py",
   "mimetype": "text/x-python",
   "name": "python",
   "nbconvert_exporter": "python",
   "pygments_lexer": "ipython3",
   "version": "3.11.5"
  }
 },
 "nbformat": 4,
 "nbformat_minor": 5
}
